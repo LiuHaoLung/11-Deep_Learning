{
 "cells": [
  {
   "cell_type": "markdown",
   "metadata": {},
   "source": [
    "# Backpropagation"
   ]
  },
  {
   "cell_type": "markdown",
   "metadata": {},
   "source": [
    "The forwardpropagation is the process of pushing through the net, at the end of each epoch, the obtained outputs are compared to the targets to form the errors.\n",
    "\n",
    "Then we backpropagation through partial derivatives and change each parameter, so errors at the next epoch are minimized.\n",
    "\n",
    "In other word, at the end of each epoch, we backpropagation and change each parameter accordingly,\n",
    "\n",
    "For the minimal example, the backpropagation consisted of a single step, aligning the weights given the errors we obtained.\n",
    "\n",
    "When we have a deep net, we must update all the weights related to the input layer and the hidden layers.\n",
    "\n",
    "For example, if we have 270 weights and this means we had to manually draw all 270 arrows, so updating all 270 weights is a big deal, we have to update the weights accordingly, considering the use non-linearities and their dervatives, finally to update the weights, we must compare the outputs to the targets, this is done for each layer but we have no targets for the hidden units, we don't know the errors, how do we update the weights, that's the backpropagation is all about, we have to update the parameters as if we had hidden targets.\n",
    "\n",
    "The way academics solve this issue is through errors, the main point is that we can trace the contribution of each unit hidden or not to the error of the output."
   ]
  },
  {
   "cell_type": "code",
   "execution_count": null,
   "metadata": {},
   "outputs": [],
   "source": []
  }
 ],
 "metadata": {
  "kernelspec": {
   "display_name": "Python 3",
   "language": "python",
   "name": "python3"
  },
  "language_info": {
   "codemirror_mode": {
    "name": "ipython",
    "version": 3
   },
   "file_extension": ".py",
   "mimetype": "text/x-python",
   "name": "python",
   "nbconvert_exporter": "python",
   "pygments_lexer": "ipython3",
   "version": "3.7.4"
  }
 },
 "nbformat": 4,
 "nbformat_minor": 2
}
