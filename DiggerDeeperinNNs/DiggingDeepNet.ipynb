{
 "cells": [
  {
   "cell_type": "markdown",
   "metadata": {},
   "source": [
    "# Digging Deep Net"
   ]
  },
  {
   "cell_type": "markdown",
   "metadata": {},
   "source": [
    "The first layer is the input layer, in ths input layer each circle represents a separate input, these inputs are the data we feed to train the model, in the tensorflow framework, this is the placeholder for inputs, like the tf.placeholder.\n",
    "\n",
    "Example for the weather forecast, there is 8 for instance inputs, average temperature, max temperature, min temperature, humidity, precitation, atmospheric pressure, cloud cover, visibility, so we combined there inputs linearly and then add nonlinearity.\n",
    "\n",
    "Linearity is easy, it just use the good old linear model, its inputs are x and to combine them linearly we need weights, in this example the weights are an 8 by 9 matirx, the x is 1 by 8 matrix, so x * w = 1 by 8 * 8 by 9 so it will give us an object with a shape of 1 by 9.\n",
    "\n",
    "Therefore following this operation, we will get a vector of length 9 or a 1 by 9 matrix, this is exactly the number of hidden units we have in the first hidden layer.\n",
    "\n",
    "All there arrows will get us from the inputs to the first hidden layer, each arrow represents the mathematical transformation of a certain value, so a certain way is applied, then a non-linearity is added, the non-linearity doesn't change the shape of the expression, it only change its linearity, so the arrows represent weights and non-linearities.\n",
    "\n",
    "The weights is 8 by 9, so there are 72 weights, so we also have 72 arrows, 9 arrows go out of each and put unit and into a hidden unit, since we have eight input units, this gives us 72 arrows, to be even more specific each weights has two index numbers, the first one indicates the input it is referring to while the second one indicates the hidden unit is referring to.\n",
    "\n",
    "For example, weights w36 is applied to the third input and it involved in calculating the sixth hidden unit, in the same way, w16, w26, w36, w46, w56, w66, w76, w86 all participate in computing the sixth hidden unit, they are linearly comdined and then nonlinearity is added in order to produce the sixth hidden unit, so in the same way, we get each of the other hidden units.\n",
    "\n",
    "Well then we have the first hidden layer and using the same logic, we can linearly combine the hidden units and apply a nonlinearity, indeed this time though, there are 9 input hidden units and 9 output hidden units, therefore the weights will be contained in a 9 by 9 matrix and there will be 81 arrows, finally we applied nonlinearity and we reached the second hidden layer, we can go on and on and on like we can add a hundred hidden layers if we want, so that's a question of how deep we want out deep net to be.\n",
    "\n",
    "Finally, we'll have the last hidden layer when we apply the operation once again, we will reach the output layer, the output units depend on the number of outputs we would like to have, in the example, the output is 4, they maybe temperature, humidity, precipitation and pressure for the next day.\n",
    "\n",
    "To reach this point, we will have a 9 by 4 matrix which refers to 36 arrows or 36 weights, as before out optimization goal is finding values for matrices that would allow us to convert inputs into correct outputs as best as we can.\n",
    "\n",
    "This time though we are not using a single linear model but a complex infrastructure with a much higher probability of delivering a meaningful result."
   ]
  },
  {
   "cell_type": "code",
   "execution_count": null,
   "metadata": {},
   "outputs": [],
   "source": []
  }
 ],
 "metadata": {
  "kernelspec": {
   "display_name": "Python 3",
   "language": "python",
   "name": "python3"
  },
  "language_info": {
   "codemirror_mode": {
    "name": "ipython",
    "version": 3
   },
   "file_extension": ".py",
   "mimetype": "text/x-python",
   "name": "python",
   "nbconvert_exporter": "python",
   "pygments_lexer": "ipython3",
   "version": "3.7.4"
  }
 },
 "nbformat": 4,
 "nbformat_minor": 2
}
