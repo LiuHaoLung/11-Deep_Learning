{
 "cells": [
  {
   "cell_type": "markdown",
   "metadata": {},
   "source": [
    "# Non-Linearities"
   ]
  },
  {
   "cell_type": "markdown",
   "metadata": {},
   "source": [
    "An important consequence of including non-linearities is the ability to stack layers, stacking layers is the process of placing one layer after the other in a meaningful way.\n",
    "\n",
    "The point we will make is that we can't stack layers when we have only linear relationships.\n",
    "\n",
    "Example, the input layer is 1 by 8, the hidden layer is 8 by 9, so the hidden layer is 1 by 9, then get the output layer from the hidden layer, so the hidden layer is 9 by 4.\n",
    "\n",
    "In the linear model, h = x * w1, the y = h * w2, the entire is become y = x * w1 * w2, w1 and w2 can be multiplied, 8 by 9 * 9 * 4, it becomes 8 by 4, so in this situation, it can get a combined matrix w* withe dimensions 8 by 4.\n",
    "\n",
    "Well this deep net can be simplified into a linear model y = x * w*, so in this case the hidden case is completely useless, because we can just train this simple linear model and we would get the same results, in mathematics this seems like an object fact, but in machine learning it is not so clear from the beginning, the two consective linear transformations are equivalent to a single one, even if we have 100 layers, the problem would be simplified to a single transformation.\n",
    "\n",
    "So the reason we need non-linearities, without them stacking layers one after the other is meaningless and without stacking layers, we will have no depth, what's more with no depth, each and every problem will equal to the simple linear example and many practitioners would tell you it was a borderline machine learning.\n",
    "\n",
    "In ordet to have deep nets and find complex relationships through arbitrary functions, we need non-linearities."
   ]
  },
  {
   "cell_type": "code",
   "execution_count": null,
   "metadata": {},
   "outputs": [],
   "source": [
    "\n"
   ]
  }
 ],
 "metadata": {
  "kernelspec": {
   "display_name": "Python 3",
   "language": "python",
   "name": "python3"
  },
  "language_info": {
   "codemirror_mode": {
    "name": "ipython",
    "version": 3
   },
   "file_extension": ".py",
   "mimetype": "text/x-python",
   "name": "python",
   "nbconvert_exporter": "python",
   "pygments_lexer": "ipython3",
   "version": "3.7.4"
  }
 },
 "nbformat": 4,
 "nbformat_minor": 2
}
