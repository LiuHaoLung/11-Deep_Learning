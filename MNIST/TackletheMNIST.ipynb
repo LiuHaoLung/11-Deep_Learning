{
 "cells": [
  {
   "cell_type": "markdown",
   "metadata": {},
   "source": [
    "# Tackle the MNIST"
   ]
  },
  {
   "cell_type": "markdown",
   "metadata": {},
   "source": [
    "Each image in the MNIST is 28 pixels by 28 pixels, it's on a gray scale, so we can think about the problem as 28 by 28 matrix, where input values are from 0 to 255, 0 corresponds to purely black and 255 to purely white.\n",
    "\n",
    "Because all the images are of the same size a 28 by 28 photo will have 784 pixels, the approach for deep feed forward neural networks is to transform or flatten each image into a vector of length 784.\n",
    "\n",
    "So for each image we would have seen 784 inputs, each inputs corresponds to the intensity of the color of the corresponding pixel.\n",
    "\n",
    "We will have 784 input units in out input layer, then we will linearly combine and add a non-linearity to get the first hidden layer.\n",
    "\n",
    "For this example, we will build a model with two hidden layers, two hidden layers are enough to produce a model with very good accuracy.\n",
    "\n",
    "Finally we will produce the output layer, there are 10 digits, so 10 classes, therefore we will have 10 output units in the output layer, the output will then be compared to the targets, it will use one-hot encoding for both the outputs and the targets.\n",
    "\n",
    "Since we would like to see the probability of a digit being rightfully labeled, we will use a softmax activation function for the output layer.\n",
    "___\n",
    "\n",
    "#### The MNIST action plan\n",
    "\n",
    "1. Prepare the data and preprocess it, create training, validation and test datasets.\n",
    "\n",
    "2. Outline the model and choose the activation functions.\n",
    "\n",
    "3. Set the appropriate advanced optimizers and the loss function.\n",
    "\n",
    "4. Make it learn.\n",
    "\n",
    "5. Test the accuracy of the model."
   ]
  },
  {
   "cell_type": "code",
   "execution_count": null,
   "metadata": {},
   "outputs": [],
   "source": []
  }
 ],
 "metadata": {
  "kernelspec": {
   "display_name": "Python 3",
   "language": "python",
   "name": "python3"
  },
  "language_info": {
   "codemirror_mode": {
    "name": "ipython",
    "version": 3
   },
   "file_extension": ".py",
   "mimetype": "text/x-python",
   "name": "python",
   "nbconvert_exporter": "python",
   "pygments_lexer": "ipython3",
   "version": "3.7.4"
  }
 },
 "nbformat": 4,
 "nbformat_minor": 2
}
