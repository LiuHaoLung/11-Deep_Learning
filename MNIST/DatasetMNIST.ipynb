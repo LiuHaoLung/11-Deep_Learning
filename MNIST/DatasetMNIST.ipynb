{
 "cells": [
  {
   "cell_type": "markdown",
   "metadata": {},
   "source": [
    "# Dataset MNIST"
   ]
  },
  {
   "cell_type": "markdown",
   "metadata": {},
   "source": [
    "It is calledthe MNIST classification, the MNIST dataset consist of around 70000 images of handwritten digits.\n",
    "\n",
    "Since we have 10 digits, there are 10 classes from 0 to 9, our objective is to build an algorithm that takes as input an image and then correctly determines which number is shown in that image.\n",
    "\n",
    "There are a few reasons we started with this algorithm, initially we wanted to create an example not used before but then we thought there is a reason MNIST is the hello world of machine learning.\n",
    "\n",
    "First it is a visual problem, you can see the data and know what to expect, this make the problem easy to define and understand.\n",
    "\n",
    "Second it has been tested by almost everyone who ever touched a deep learning algorithm.\n",
    "\n",
    "Third it is easy to build up to convolution or neural networks from the MNIST example.\n",
    "\n",
    "Finally the dataset is both sufficiently large and clean, this meaning there are no missing values, wrong labels, smudged picture etc."
   ]
  },
  {
   "cell_type": "code",
   "execution_count": null,
   "metadata": {},
   "outputs": [],
   "source": []
  }
 ],
 "metadata": {
  "kernelspec": {
   "display_name": "Python 3",
   "language": "python",
   "name": "python3"
  },
  "language_info": {
   "codemirror_mode": {
    "name": "ipython",
    "version": 3
   },
   "file_extension": ".py",
   "mimetype": "text/x-python",
   "name": "python",
   "nbconvert_exporter": "python",
   "pygments_lexer": "ipython3",
   "version": "3.7.4"
  }
 },
 "nbformat": 4,
 "nbformat_minor": 2
}
