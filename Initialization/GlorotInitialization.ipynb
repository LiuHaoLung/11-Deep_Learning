{
 "cells": [
  {
   "cell_type": "markdown",
   "metadata": {},
   "source": [
    "# Glorot Initialization"
   ]
  },
  {
   "cell_type": "markdown",
   "metadata": {},
   "source": [
    "A more advanced strategy is the Xavier initialization also known as Glorot initialization.\n",
    "\n",
    "So the range for the first two cases was arbitrarily chosen by us, the Xavier initialization addresses this issue, there are both a uniform Xavier initialization and normal Xavier initialization.\n",
    "\n",
    "The main idea is that the method used for randomization isn't so important, it is the number of outputs in the following layer that does, with the passing of each layer, the Xavier initialization is maintaining the variance in some bounds, so we can take full advantage of activation functions.\n",
    "\n",
    "The Uniform Xavier initialization states, we should draw each weights, w, from a randon uniform distribution in the range from -x to x where x is equal to the square of 6 divided by the number of inputs plus the number of outputs for the transformation.\n",
    "\n",
    "The Normal Xavier initialization states, we have draw each weigths, w, from a normal distribution with a mean of 0 and a standard deviation eqaul to 2 divided by the numbeor of inputs plus the number of outputs for the transformation.\n",
    "\n",
    "The numerator values 2 and 6 vary across sources, but the idea is the same.\n",
    "\n",
    "Another detail you should notice is that the number of inputs and ouputs matter's, outputs are clear, that's where the activation function is going, so the higher number of outputs, the higher need to spread weights, what about the inputs, well optimization is done through back propagation, so when we back propagation we would obviously have the same problem but in the opposite direction, finally in tersorflow this is the default initialiser, so if you initialize the variables without specifying how, it will automatically adopt the Xavier initializer."
   ]
  },
  {
   "cell_type": "code",
   "execution_count": null,
   "metadata": {},
   "outputs": [],
   "source": []
  }
 ],
 "metadata": {
  "kernelspec": {
   "display_name": "Python 3",
   "language": "python",
   "name": "python3"
  },
  "language_info": {
   "codemirror_mode": {
    "name": "ipython",
    "version": 3
   },
   "file_extension": ".py",
   "mimetype": "text/x-python",
   "name": "python",
   "nbconvert_exporter": "python",
   "pygments_lexer": "ipython3",
   "version": "3.7.4"
  }
 },
 "nbformat": 4,
 "nbformat_minor": 2
}
