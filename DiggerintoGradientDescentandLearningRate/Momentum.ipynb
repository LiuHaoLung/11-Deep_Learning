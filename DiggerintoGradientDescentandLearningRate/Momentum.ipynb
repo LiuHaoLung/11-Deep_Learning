{
 "cells": [
  {
   "cell_type": "markdown",
   "metadata": {},
   "source": [
    "# Momentum"
   ]
  },
  {
   "cell_type": "markdown",
   "metadata": {},
   "source": [
    "To improve the chances of reachihg the global minimum rather than getting stuck in a local one.\n",
    "\n",
    "The gradient descent and the stochastic gradient descent are good ways to train the models, we need not change them, we should simply extend them, the simplest extension, we should apply is called momentum.\n",
    "\n",
    "An easy way to explain momentum is throuhg a physics analogy, imagine the gradient descent as rolling a ball down a hill, the faster the ball rolls, the higher is its momnetum, a small dip in the grass would not stop the ball it would rather continue rolling until its has reached a flat surface out of which it can't go, so the small dip is the local minumum while the big valley is the global minimum.\n",
    "\n",
    "If there was any momemtum, the ball would never reach the desired final distination, it would have rolled with some non increasing speed and would have stopped in the dip, so the momemtum acoounts for the fact the ball actually going downhill.\n",
    "\n",
    "How do we add momentum to the algorithm, the rule was <code>w = w - η * ∂l / ∂w</code>, including momentum we will consider the speed with which we've been descening so far.\n",
    "\n",
    "For instance, if the ball is rolling fast the momentum is high, otherwise the momemtum is low, the best way to find out how fast the ball rolls is to check how fast it rolled a moment ago, that's also the method adopted in machine learning, the method is <code> w = w(t) - η * ∂l / ∂w * (t) - α * η * ∂l / ∂w * (t-1)</code>, the <code>w(t) - η * ∂l / ∂w * (t)</code> means the current update, the <code>α * η * ∂l / ∂w * (t-1)</code> means the update a moment ago, usually we use an alpha of 0.9 to adjust the previous update, alpha is a hyperparameter and we can play around with it for better results, 0.9 is the conventional rule of thumb."
   ]
  },
  {
   "cell_type": "code",
   "execution_count": null,
   "metadata": {},
   "outputs": [],
   "source": []
  }
 ],
 "metadata": {
  "kernelspec": {
   "display_name": "Python 3",
   "language": "python",
   "name": "python3"
  },
  "language_info": {
   "codemirror_mode": {
    "name": "ipython",
    "version": 3
   },
   "file_extension": ".py",
   "mimetype": "text/x-python",
   "name": "python",
   "nbconvert_exporter": "python",
   "pygments_lexer": "ipython3",
   "version": "3.7.4"
  }
 },
 "nbformat": 4,
 "nbformat_minor": 2
}
