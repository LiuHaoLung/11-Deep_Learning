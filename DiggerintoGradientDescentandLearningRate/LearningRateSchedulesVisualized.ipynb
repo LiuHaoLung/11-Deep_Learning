{
 "cells": [
  {
   "cell_type": "markdown",
   "metadata": {},
   "source": [
    "# Learning Rate Schedules Visualized"
   ]
  },
  {
   "cell_type": "markdown",
   "metadata": {},
   "source": [
    "Used a small learning rate which reached the goal but slowly, as we said a high learning rate would minimize the loss fast but only to a certain extent, then its starts oscillating and the loss stops moving.\n",
    "\n",
    "A high learning rate would not even minimize the loss, the cost would rather explode upwards as seen in the graph.\n",
    "\n",
    "Finally, a well-selected learning rate following a schedule would minimize the loss faster than a low learning rate, and more accurately than a high learning rate.\n",
    "\n",
    "So naturally we are aiming at the good learning rate.\n",
    "\n",
    "Note that high learning rates may not minimize the loss, a low learning rate eventually converges with a good learning rate but the process will take much longer."
   ]
  },
  {
   "cell_type": "code",
   "execution_count": null,
   "metadata": {},
   "outputs": [],
   "source": []
  }
 ],
 "metadata": {
  "kernelspec": {
   "display_name": "Python 3",
   "language": "python",
   "name": "python3"
  },
  "language_info": {
   "codemirror_mode": {
    "name": "ipython",
    "version": 3
   },
   "file_extension": ".py",
   "mimetype": "text/x-python",
   "name": "python",
   "nbconvert_exporter": "python",
   "pygments_lexer": "ipython3",
   "version": "3.7.4"
  }
 },
 "nbformat": 4,
 "nbformat_minor": 2
}
