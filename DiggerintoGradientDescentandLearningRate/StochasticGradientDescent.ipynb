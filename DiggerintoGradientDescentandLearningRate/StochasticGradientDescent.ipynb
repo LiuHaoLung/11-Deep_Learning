{
 "cells": [
  {
   "cell_type": "markdown",
   "metadata": {},
   "source": [
    "# Stochastic Gradient Descent"
   ]
  },
  {
   "cell_type": "markdown",
   "metadata": {},
   "source": [
    "The gradient descent iteraters over the whole training set before updating the weights, each update is very small, that's due to the whole concept of the gradient descent driven by the small value of the learning rate.\n",
    "\n",
    "Stochastic Gradient Descent it works in the exact same way, but instead of updating the weights once per epoch, it updates them in real time inside a singel epoch.\n",
    "\n",
    "The stochastic gradient descent is closely related to the concept of batching, batching is the process of splitting data into and batches often called many batches, we update the weights after every batch instead of every epoch, example we have 10000 training points, if we choose a batch size of 1000 then we have 10 batches per epoch, so for every full iteration over the training data set, we would update the weights 10 times instead 1.\n",
    "\n",
    "This is by no means a new method, it is the same as the gradient descent but much faster, as all good things go, the SGD comes at a cost, it approximates things a bit, so we lose a bit of accuracy but the tradeoff is worth it.\n",
    "\n",
    "That's confirmed by the fact that virtually everyone in the industry uses stochastic gradient descent, not gradient descent.\n",
    "\n",
    "There are a couple of reasons why use stochastic gradient descent, but one of the finest is related to hardware, splitting the training set into batches allows the CPU or GPU to train on different batches in parallel, this givens an incredible speed boost which is why practitioners rely on it.\n",
    "\n",
    "Ackchyually, stochastic gradient descent is when you update after every input, so the batch size is 1, what we have been talking about was technically called mini batch gradient descent, howerver more often than not, practitioners refer to the mini batch GD as SGD."
   ]
  },
  {
   "cell_type": "code",
   "execution_count": null,
   "metadata": {},
   "outputs": [],
   "source": []
  }
 ],
 "metadata": {
  "kernelspec": {
   "display_name": "Python 3",
   "language": "python",
   "name": "python3"
  },
  "language_info": {
   "codemirror_mode": {
    "name": "ipython",
    "version": 3
   },
   "file_extension": ".py",
   "mimetype": "text/x-python",
   "name": "python",
   "nbconvert_exporter": "python",
   "pygments_lexer": "ipython3",
   "version": "3.7.4"
  }
 },
 "nbformat": 4,
 "nbformat_minor": 2
}
