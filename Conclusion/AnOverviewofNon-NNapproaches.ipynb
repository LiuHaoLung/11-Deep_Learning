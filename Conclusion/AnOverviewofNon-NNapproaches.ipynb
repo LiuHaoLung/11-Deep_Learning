{
 "cells": [
  {
   "cell_type": "markdown",
   "metadata": {},
   "source": [
    "# An Overview of Non-NN approaches"
   ]
  },
  {
   "cell_type": "markdown",
   "metadata": {},
   "source": [
    "Consider discriminative models, a dicriminative model is one that uses an input and then provides a probability of whether it output is correct, another instance of discriminative models are rand om forests.\n",
    "\n",
    "They are bases on decision trees and this is why they are called forests.\n",
    "\n",
    "The main idea is that decision trees are not so good at classifying, as they tend to overfit a lot, a random forest takes many decison trees and makes the point that many bad classifiers equal a good classifier, that said random forests are mainly used for classification.\n",
    "___\n",
    "\n",
    "There are also generative models that don't give an output y given x, the target is actually the joint probability distribution of x and y which carries more information.\n",
    "\n",
    "It goes from inputs to outputs and them from outputs to inputs, that's useful for problems such as translations.\n",
    "\n",
    "Examples are hidden Markov models, this model assume that the problem at hand id markov process, broadly speaking this implies we can predict the future based on the present just as well as if we had the whole history of the process that in a way is opposite to what we've done so far.\n",
    "___\n",
    "\n",
    "We have bayesian networks, as everything that has the bayesian name, these models take into account prior probabilities.\n",
    "\n",
    "The different between a neural network and a bayesian network is that with bayesian networks, probabilities of an event occurring are uses he models inputs, in a neural network each input alone doesn't mean much, but a model trained on many many inputs gives amazing insights.\n",
    "\n",
    "Bayesian networks are quite useful when we have some uncertainty, for example in medicine, a person may have a certain disease with some symptons manifested while another may have same disease but with completely different symptoms manifested, this ia a situation where we have conflicting information, a neural network would be confuses as there would be no trend to be found between the two patients, while the bayesian network would assume that such a case is not unusual.\n",
    "\n",
    "That said researchers create neural networks that are designed to reflect such problem with considerable success."
   ]
  },
  {
   "cell_type": "code",
   "execution_count": null,
   "metadata": {},
   "outputs": [],
   "source": []
  }
 ],
 "metadata": {
  "kernelspec": {
   "display_name": "Python 3",
   "language": "python",
   "name": "python3"
  },
  "language_info": {
   "codemirror_mode": {
    "name": "ipython",
    "version": 3
   },
   "file_extension": ".py",
   "mimetype": "text/x-python",
   "name": "python",
   "nbconvert_exporter": "python",
   "pygments_lexer": "ipython3",
   "version": "3.7.4"
  }
 },
 "nbformat": 4,
 "nbformat_minor": 2
}
