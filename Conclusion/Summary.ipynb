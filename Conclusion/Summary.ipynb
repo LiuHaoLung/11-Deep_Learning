{
 "cells": [
  {
   "cell_type": "markdown",
   "metadata": {},
   "source": [
    "# Summary"
   ]
  },
  {
   "cell_type": "markdown",
   "metadata": {},
   "source": [
    "First introduce the fundamentals of machine learning, there are four ingredients, data, model, objective function and optimization algortihm.\n",
    "\n",
    "Then the overfitting, implemented some common strategies to spot the issue of overfitting through create a train, validation and test datasets.\n",
    "\n",
    "With some useful early stopping techniques and emphasized the fact that not only split the dataset but apply early stopping when necessary.\n",
    "\n",
    "The initialization of variables, there are two important takeaways, batching and the learning rate, after upgrading it with learning rate schedules and momentum, then the state of the art technique, the adaptive moment estimation, known as adam.\n",
    "\n",
    "The finally is the pre-processing, it focus on the one-hot and binary encoding, aa each classification problem requires some encoding."
   ]
  },
  {
   "cell_type": "code",
   "execution_count": null,
   "metadata": {},
   "outputs": [],
   "source": []
  }
 ],
 "metadata": {
  "kernelspec": {
   "display_name": "Python 3",
   "language": "python",
   "name": "python3"
  },
  "language_info": {
   "codemirror_mode": {
    "name": "ipython",
    "version": 3
   },
   "file_extension": ".py",
   "mimetype": "text/x-python",
   "name": "python",
   "nbconvert_exporter": "python",
   "pygments_lexer": "ipython3",
   "version": "3.7.4"
  }
 },
 "nbformat": 4,
 "nbformat_minor": 2
}
