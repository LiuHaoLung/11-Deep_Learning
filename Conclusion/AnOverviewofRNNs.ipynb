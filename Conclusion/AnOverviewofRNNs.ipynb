{
 "cells": [
  {
   "cell_type": "markdown",
   "metadata": {},
   "source": [
    "# An Overview of RNNs"
   ]
  },
  {
   "cell_type": "markdown",
   "metadata": {},
   "source": [
    "While CNNs are great of modeling and dealing with visual data, RNNs or recurrent neural networks were specifically designed for sequential data.\n",
    "\n",
    "Examples are trading signals, music where there is a certain flow, speech recognition and handwriting recognition are also instances of RNNs, as each consequent word often depends on what you said before.\n",
    "\n",
    "The specific feature of RNNs is that they have memory.\n",
    "\n",
    "Example for RNNs, we have an input layer, a hidden layer and an output layer, indices here indicate time, rather than a specific unit, an index of 0 implies that layer at time 0.\n",
    "\n",
    "We forward propagate, but we keep the information from the hidden layer, for the second sample, we forward propagate again, but the hidden layer this time is a function of both the input layer, the updated weights and the hidden layer from the previous iteration.\n",
    "\n",
    "If we want to desig a similar figure to that of deep neural networks, we would have the same picture as before, but this time there are additional weights that lead from the hidden units themselves.\n",
    "\n",
    "Essentially, these are connections between the hidden units and their own values for the previous inputs, by now every input target pair was independent with this new structure and output is formed by the current input and the hidden units values form previous forward propagations, therefore we must learn the weights of the hidden units to themselves too.\n",
    "\n",
    "If you think about an RNNs and then you realize that it's basically a deep neural network, the net though is not just deep but extremely deep.\n",
    "\n",
    "This is called unrolling the RNNs and then if we unroll the added time dependencies, we will end up with a deep feedforward neural network."
   ]
  },
  {
   "cell_type": "code",
   "execution_count": null,
   "metadata": {},
   "outputs": [],
   "source": []
  }
 ],
 "metadata": {
  "kernelspec": {
   "display_name": "Python 3",
   "language": "python",
   "name": "python3"
  },
  "language_info": {
   "codemirror_mode": {
    "name": "ipython",
    "version": 3
   },
   "file_extension": ".py",
   "mimetype": "text/x-python",
   "name": "python",
   "nbconvert_exporter": "python",
   "pygments_lexer": "ipython3",
   "version": "3.7.4"
  }
 },
 "nbformat": 4,
 "nbformat_minor": 2
}
