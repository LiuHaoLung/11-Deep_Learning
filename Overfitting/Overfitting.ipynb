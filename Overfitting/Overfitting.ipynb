{
 "cells": [
  {
   "cell_type": "markdown",
   "metadata": {},
   "source": [
    "# Overfitting"
   ]
  },
  {
   "cell_type": "markdown",
   "metadata": {},
   "source": [
    "There are two concepts that are interrelated underfitting and overfitting.\n",
    "___\n",
    "\n",
    "Underfitting             |Overfitting\n",
    "---                      |---\n",
    "The model has not captured the underlying logic of the data, it doesn't know what to do and therefore provides an answer that is far from correct.                         |Our training has focused on the particular training set so much, it has missed the point.\n",
    "\n",
    "___\n",
    "\n",
    "#### Underfitting\n",
    "\n",
    "A good model would not be perfect, but would be very close to the actual relationship.\n",
    "\n",
    "The model is the underfitting model, it means it provides an answer, but doesn't capture the underlying logic of the data.\n",
    "\n",
    "So it doesn't have strong predictive power, underfitting models are clumsy, they have high costs in terms of high loss function and their accuracy is low, so there are no relationships to be found or you need a complex model\n",
    "___\n",
    "\n",
    "#### Overfitting\n",
    "\n",
    "The model is the overfitting model, it means it is a super good at modeling the training data that they fit or at least come very near each observation, so this model miss the point.\n",
    "\n",
    "The problem is that the random noise is captured inside an overfitting model, the model is probably overfit the data and it was trained to explain the training so well that is missed the point.\n",
    "\n",
    "___\n",
    "\n",
    "#### First rule of programming\n",
    "\n",
    "The computer is never wrong, it is us, who made a mistake, we must keep issues as overfitting in mind and take care of them with the appropriate remedies.\n",
    "___\n",
    "\n",
    "An underfitted model|A good model|An overfitted model\n",
    "---                 |---         |---\n",
    "Doesn't capture any logic|Captures the underlying logic of the dataset|Captures all the noise, thus missing the point\n",
    "High loss|Low loss|Low loss\n",
    "Low test accuracy|High test accuracy|Low test accuracy"
   ]
  },
  {
   "cell_type": "code",
   "execution_count": null,
   "metadata": {},
   "outputs": [],
   "source": []
  }
 ],
 "metadata": {
  "kernelspec": {
   "display_name": "Python 3",
   "language": "python",
   "name": "python3"
  },
  "language_info": {
   "codemirror_mode": {
    "name": "ipython",
    "version": 3
   },
   "file_extension": ".py",
   "mimetype": "text/x-python",
   "name": "python",
   "nbconvert_exporter": "python",
   "pygments_lexer": "ipython3",
   "version": "3.7.4"
  }
 },
 "nbformat": 4,
 "nbformat_minor": 2
}
