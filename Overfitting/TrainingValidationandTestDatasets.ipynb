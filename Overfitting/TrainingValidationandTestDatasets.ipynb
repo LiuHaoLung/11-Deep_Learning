{
 "cells": [
  {
   "cell_type": "markdown",
   "metadata": {},
   "source": [
    "# Training, Validation and Test Datasets"
   ]
  },
  {
   "cell_type": "markdown",
   "metadata": {},
   "source": [
    "After we have treated the model and validated it, it is time to measure its predictive power, logically it is done by running the model on a new data set, it hasn't seen before.\n",
    "\n",
    "Running the model on the test dataset is equivalent to applying it in real-life, so our data set is trained and validated, we have the final version of the machine learning black box, we are ready to test it with the test data set.\n",
    "\n",
    "The accuracy that we get by forward propagating the test dataset, is the accuracy we expect the model to have if we deploy it in real life, so the test data set is the last step we take.\n",
    "___\n",
    "\n",
    "#### Summary\n",
    "\n",
    "First you get a data set, then you split it into three parts, well there is no set rule but splits like 80% training, 10% validation and 10% test or 70% training, 20% validation and 10% test are commonly used.\n",
    "\n",
    "Obviously the data set where we treat the modle should be considerably large than the other two, you want to devote as much data as possible to the training of the model while having enough samples to validate and test on.\n",
    "\n",
    "We train the model using the training data set and the training data set only.\n",
    "\n",
    "Every now and then we validate the model by running it for the validation data set, usually we validate the data set for every epoch, every time we adjust all weights and calculate the training loss revalidate, if the training loss and the validation loss go hand-in-hand we carry on training the model, if the validation loss is increasing, we are overfitting, so we should stop.\n",
    "\n",
    "Test the model with the test data set, the accuracy you obtai at this stage is the accuracy of your machine learning algorithm, that means this accuracy is the accuracy of the algorithm."
   ]
  },
  {
   "cell_type": "code",
   "execution_count": null,
   "metadata": {},
   "outputs": [],
   "source": []
  }
 ],
 "metadata": {
  "kernelspec": {
   "display_name": "Python 3",
   "language": "python",
   "name": "python3"
  },
  "language_info": {
   "codemirror_mode": {
    "name": "ipython",
    "version": 3
   },
   "file_extension": ".py",
   "mimetype": "text/x-python",
   "name": "python",
   "nbconvert_exporter": "python",
   "pygments_lexer": "ipython3",
   "version": "3.7.4"
  }
 },
 "nbformat": 4,
 "nbformat_minor": 2
}
