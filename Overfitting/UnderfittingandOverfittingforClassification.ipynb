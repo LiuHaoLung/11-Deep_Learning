{
 "cells": [
  {
   "cell_type": "markdown",
   "metadata": {},
   "source": [
    "# Underfitting and Overfitting for Classification"
   ]
  },
  {
   "cell_type": "markdown",
   "metadata": {},
   "source": [
    "Time for classification example, the two main type of supervised learning are regression and classification.\n",
    "___\n",
    "\n",
    "#### A classification example\n",
    "\n",
    "There are two categories, one of them is cats and the other one is dogs, a good model explaining all the data looks like this, a quadratic function with a few errors.\n",
    "\n",
    "What would be an underfitted model? Well of course a linear model, linear model are not very smart, often a simple when your model underfits if the data is not transformed, so in this case around 60% of the observations would be classified correctly with an underfitted model.\n",
    "\n",
    "An overfit model would classify the observations perfectly, it has correctly identified all the cat and dog photos in the data set, but once we give it a different data set following the same quadratic function logic it will perform poorly.\n",
    "___\n",
    "\n",
    "#### Conclude\n",
    "\n",
    "What does a well-trained model then, well it is somewhere between an underfitting and an overfitting model, this fine balance is often called the bias variance trade off."
   ]
  },
  {
   "cell_type": "code",
   "execution_count": null,
   "metadata": {},
   "outputs": [],
   "source": []
  }
 ],
 "metadata": {
  "kernelspec": {
   "display_name": "Python 3",
   "language": "python",
   "name": "python3"
  },
  "language_info": {
   "codemirror_mode": {
    "name": "ipython",
    "version": 3
   },
   "file_extension": ".py",
   "mimetype": "text/x-python",
   "name": "python",
   "nbconvert_exporter": "python",
   "pygments_lexer": "ipython3",
   "version": "3.7.4"
  }
 },
 "nbformat": 4,
 "nbformat_minor": 2
}
