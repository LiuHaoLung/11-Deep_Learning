{
 "cells": [
  {
   "cell_type": "markdown",
   "metadata": {},
   "source": [
    "# Building Blocks"
   ]
  },
  {
   "cell_type": "markdown",
   "metadata": {},
   "source": [
    "Create a machine learning algorithm ultimately means building a model that output correct information, given that provide input data.\n",
    "___\n",
    "\n",
    "#### Introduce the framework\n",
    "\n",
    "Think this model as a black box, it can feed input and it delivers an output, for instance it may want to create a model that predicts the weather tomorrow given meteorological information for the past few days, the input will feed to the model could be matrix such as temperature, humidity and precipitation, the output will obtain would be the weather forecast for tomorrow.\n",
    "___\n",
    "\n",
    "#### Train\n",
    "\n",
    "Before get comfortable and confident about the models output, it must train the model, training is a central concept in machine learning as this is the process through which the model learns how to make sense of the input data, so once trained the model, we can simply feed it with data and obtain an output.\n",
    "___\n",
    "\n",
    "#### Training an algorithm\n",
    "\n",
    "The basic logic behind training an algorithm involves four ingredients, Data, Model, Objective function and Optimization algorithm.\n",
    "\n",
    "First, must prepare a certain amount of data to train with, usually this is historical data which is readily available.\n",
    "\n",
    "Second, it need a model, the simplest model can train is a linear model, in the weather forecast example, that would mean to find some coefficients, multiply each variable with them and sum everything to get the output.\n",
    "\n",
    "The linear model is just the tip of the iceberg, stepping on the linear model, deep machine learning lets us create complicated non-linear models, they usually fit the data much better than a simple linear relationship.\n",
    "\n",
    "Third, so far take data, fed it to the model and obtained an output, of course want this output to be as close to reality as possible, that's where the objective function comes in.\n",
    "\n",
    "It estimates how correct the models outputs are on average, the entire machine learning framework boils down to optimizing this function, for example if the function is measuring the prediction error of the model, it would want to minimize this error, in other words, minimize the objective function.\n",
    "\n",
    "Final, it consists of the mechanics through which vary the parameters of the model to optimize the objective function, for instance if the weather forecast model is weather tomorrow equals w1 * temperature + w2 * humidity, the optimize algorithm may go through values like 1.05 * temperature + 1.2 * humidity ... and so on, in this case, the w1 and w2 are the parameters that will change, for each set of parameters, it would calculate the objective function then would choose the model with the highest predictive power, it would be the one with the optimal objective function."
   ]
  },
  {
   "cell_type": "code",
   "execution_count": null,
   "metadata": {},
   "outputs": [],
   "source": []
  }
 ],
 "metadata": {
  "kernelspec": {
   "display_name": "Python 3",
   "language": "python",
   "name": "python3"
  },
  "language_info": {
   "codemirror_mode": {
    "name": "ipython",
    "version": 3
   },
   "file_extension": ".py",
   "mimetype": "text/x-python",
   "name": "python",
   "nbconvert_exporter": "python",
   "pygments_lexer": "ipython3",
   "version": "3.7.4"
  }
 },
 "nbformat": 4,
 "nbformat_minor": 2
}
