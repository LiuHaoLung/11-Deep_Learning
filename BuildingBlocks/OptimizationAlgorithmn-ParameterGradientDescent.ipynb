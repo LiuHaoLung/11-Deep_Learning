{
 "cells": [
  {
   "cell_type": "markdown",
   "metadata": {},
   "source": [
    "# Optimization Algorithm n- Parameter Gradient Descent"
   ]
  },
  {
   "cell_type": "markdown",
   "metadata": {},
   "source": [
    "Following the update rule:\n",
    "\n",
    "\n",
    "<code>xi+1 = x - η * f'(xi)</code>\n",
    "\n",
    "\n",
    "With the multidimensional space, the update rule become:\n",
    "\n",
    "\n",
    "<code>wi+1 = wi - η * ∇w * L(y,t)</code>\n",
    "<code>bi+1 = bi - η * ∇b * L(y,t)</code>\n",
    "\n",
    "\n",
    "The <code>∇</code> means the gradient of the loss function, the w is for the weight, the b is for the bias.\n",
    "\n",
    "We want to minimize the loss function by varying the weights and the biases, this means we are trying to optimize the loss function regarding w and b.\n",
    "\n",
    "\n",
    "Mathematically it looks like this:\n",
    "\n",
    "\n",
    "<code>∇w * L(y,t) = Σi * ∇w * 1 / 2 * (yi - ti) ^ 2</code>\n",
    "\n",
    "\n",
    "From the linear model:\n",
    "\n",
    "\n",
    "<code>yi = wx + b</code>\n",
    "\n",
    "\n",
    "So it becomes:\n",
    "\n",
    "\n",
    "<code>∇w * L(y,t) = Σi * ∇w * δi</code>\n",
    "\n",
    "\n",
    "The <code>δ</code> is often used to measure differences, so we calculate that expression for each observation and then sum them all.\n",
    "\n",
    "Logically the gradient of the loss function with respect to the bias:\n",
    "\n",
    "\n",
    "<code>∇b * L(y,t) = Σi * δi</code>"
   ]
  },
  {
   "cell_type": "code",
   "execution_count": null,
   "metadata": {},
   "outputs": [],
   "source": []
  }
 ],
 "metadata": {
  "kernelspec": {
   "display_name": "Python 3",
   "language": "python",
   "name": "python3"
  },
  "language_info": {
   "codemirror_mode": {
    "name": "ipython",
    "version": 3
   },
   "file_extension": ".py",
   "mimetype": "text/x-python",
   "name": "python",
   "nbconvert_exporter": "python",
   "pygments_lexer": "ipython3",
   "version": "3.7.4"
  }
 },
 "nbformat": 4,
 "nbformat_minor": 2
}
