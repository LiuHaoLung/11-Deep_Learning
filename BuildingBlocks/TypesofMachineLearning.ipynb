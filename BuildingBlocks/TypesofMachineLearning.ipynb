{
 "cells": [
  {
   "cell_type": "markdown",
   "metadata": {},
   "source": [
    "# Types of Machine Learning"
   ]
  },
  {
   "cell_type": "markdown",
   "metadata": {},
   "source": [
    "There are 3 major types of machine learning:\n",
    "\n",
    "* Supervised.\n",
    "* Unsupervised.\n",
    "* Reinforcement.\n",
    "___\n",
    "\n",
    "#### Supervised\n",
    "\n",
    "Supervised learning refers to the case where provide the algorithm with inputs and their corresponding desired outputs, based on this information, it learns how to produce outputs as close to the ones we are looking for.\n",
    "\n",
    "Both example, the one about the weather forecast and the one about preparing coffee illustrated supervised learning.\n",
    "\n",
    "Supervised learning can be divided into additional subtypes, classification and regression.\n",
    "\n",
    "The difference is very straightward, classification supervised learning models provide outputs which are categories, such as cats or dogs, in regression supervised learning models the outputs will be of numerical type, for instance predicting the EUR/USD exchange rate will always give us a continuous number like 1.1, 1.19.\n",
    "___\n",
    "\n",
    "#### Unsupervised\n",
    "\n",
    "In unsupervised learning, it feed inputs but there are no target outputs, this means don't tell the algorithm exactly what the goal is, instead it ask to find some sort of dependence or underlying logic in the data can provide.\n",
    "\n",
    "For instance, imagine we administrate the Web site, user have the option to submit photos of their cats or dogs to the Web site, once a photo has been submitted, it would like to be automatically classified in the subpage cats or subpage dogs.\n",
    "\n",
    "With unsupervised learning though, it can train the algorithm without labeling the photos or in an unsupervised way, it could simply ask to split them into two groups based on visual similarities, so the result would be two groups that are on labelled.\n",
    "\n",
    "Unsupervised learning is especially useful when our goal is to split a dataset into a certain number of categories which we don't know prior to implementing it, that by the way is called clustering.\n",
    "___\n",
    "\n",
    "#### Reinforcement\n",
    "\n",
    "It would treat a model to act in an environment based on the rewards it receives, it is much like training the pet and rewarding it with treats everytime it achieves a goal.\n",
    "\n",
    "Like sits, rolls over or gives you a pun, int the same way the machine learning algorithm can be taught how to play like super mario by rewarding it for progressing with an increase in score."
   ]
  }
 ],
 "metadata": {
  "kernelspec": {
   "display_name": "Python 3",
   "language": "python",
   "name": "python3"
  },
  "language_info": {
   "codemirror_mode": {
    "name": "ipython",
    "version": 3
   },
   "file_extension": ".py",
   "mimetype": "text/x-python",
   "name": "python",
   "nbconvert_exporter": "python",
   "pygments_lexer": "ipython3",
   "version": "3.7.4"
  }
 },
 "nbformat": 4,
 "nbformat_minor": 2
}
