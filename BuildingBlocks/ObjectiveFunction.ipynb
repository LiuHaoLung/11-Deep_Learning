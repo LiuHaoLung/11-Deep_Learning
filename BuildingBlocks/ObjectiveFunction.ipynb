{
 "cells": [
  {
   "cell_type": "markdown",
   "metadata": {},
   "source": [
    "# Objective Function"
   ]
  },
  {
   "cell_type": "markdown",
   "metadata": {},
   "source": [
    "The objective function is the measure used to evaluate how well the models outputs match the desired correct values.\n",
    "\n",
    "The objective functions are generally split intow two types, ones if Loss function, the other is reward function.\n",
    "___\n",
    "\n",
    "#### Loss function\n",
    "\n",
    "The loss function are also called cost functions, the lower the loss function, the higher the level of accuracy of the model.\n",
    "\n",
    "Most often we work with loss functions, an intuitive example is a loss function that measures the error of prediction, we always want to minimize the error of prediction thus minimize the loss.\n",
    "___\n",
    "\n",
    "#### Reward function\n",
    "\n",
    "On the other hand are basically the opposite of loss functions, the higher the reward function, the higher level of accuracy of the model, usually reward function are used in reinforcement learning where the goal is to maximize a specific result."
   ]
  },
  {
   "cell_type": "code",
   "execution_count": null,
   "metadata": {},
   "outputs": [],
   "source": []
  }
 ],
 "metadata": {
  "kernelspec": {
   "display_name": "Python 3",
   "language": "python",
   "name": "python3"
  },
  "language_info": {
   "codemirror_mode": {
    "name": "ipython",
    "version": 3
   },
   "file_extension": ".py",
   "mimetype": "text/x-python",
   "name": "python",
   "nbconvert_exporter": "python",
   "pygments_lexer": "ipython3",
   "version": "3.7.4"
  }
 },
 "nbformat": 4,
 "nbformat_minor": 2
}
