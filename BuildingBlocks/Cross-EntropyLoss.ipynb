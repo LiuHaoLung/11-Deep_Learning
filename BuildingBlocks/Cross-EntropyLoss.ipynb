{
 "cells": [
  {
   "cell_type": "markdown",
   "metadata": {},
   "source": [
    "# Cross-Entropy Loss"
   ]
  },
  {
   "cell_type": "markdown",
   "metadata": {},
   "source": [
    "The output of classification, things are different, since the outputs are categories like cats and dogs.\n",
    "\n",
    "The most common loss function used for classification is cross-entropy and it is defined as L(y,t), it is equals minus the sum of the targets * natural log of the outputs.\n",
    "\n",
    "Example, there are three category, cat, dog and horse, here's an image labeled as dog, this lable is the target, the target vector for this photo would be t = [0,1,0], first 0 means not cat, the 1 shows it is a dog, the third 0 means not horse.\n",
    "\n",
    "Imagine the outputs of this model for these two images are [0.4,0.4,0.2], the other is [0.1,0.2,0.7], after some machine leaning transformations these vectors show the probabilities for each photo to be a cat, a dog or a horse.\n",
    "\n",
    "The first vector [0.4,0.4,0.2] shows that according to this algorithm there is a 40% chance that the to be a cat, 40% chance to be dog and 20% chance to be a horse.\n",
    "\n",
    "The Cross-entropy of the first vector is L(y,t) = -0 * ln0.4 + -1 * ln0.4 -0 * ln0.2 = 0.92, the cross-entropy of the second vector is L(y,t) = -0 * ln0.1 -0 * ln0.2 -1 * ln0.7 = 0.36, the lower the loss function, the more accuracy the model, with the two cross-entropy, is shows the second its prediction is superior.\n",
    "\n",
    "If the higher for worse results, lower for better results can be a loss function."
   ]
  },
  {
   "cell_type": "code",
   "execution_count": null,
   "metadata": {},
   "outputs": [],
   "source": []
  }
 ],
 "metadata": {
  "kernelspec": {
   "display_name": "Python 3",
   "language": "python",
   "name": "python3"
  },
  "language_info": {
   "codemirror_mode": {
    "name": "ipython",
    "version": 3
   },
   "file_extension": ".py",
   "mimetype": "text/x-python",
   "name": "python",
   "nbconvert_exporter": "python",
   "pygments_lexer": "ipython3",
   "version": "3.7.4"
  }
 },
 "nbformat": 4,
 "nbformat_minor": 2
}
