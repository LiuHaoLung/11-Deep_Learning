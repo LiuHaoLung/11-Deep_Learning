{
 "cells": [
  {
   "cell_type": "markdown",
   "metadata": {},
   "source": [
    "# The Linear Model with linear algebraic version"
   ]
  },
  {
   "cell_type": "markdown",
   "metadata": {},
   "source": [
    "Let's consider a variable x, f(x) gives an output y, on the other hands, the y is a function of x, but we don't know the function, we want to make the algorithm find out on its own.\n",
    "\n",
    "This done by providing it with many pairs of observations of x and y as possible and following the methodology to come.\n",
    "\n",
    "In the linear model universe, f(x) = xw + b, x is the input it already have, in the traditional statistical, w is the coefficient of x and b would be the intercept; in the machine learning w is called the weight or wieghts when we have more than one parameter, b is called the bias or biases.\n",
    "\n",
    "The goal of the machine learning algorithm would be to find such values for w and b, so the output of xw + b is as close to the oberved values as possible.\n",
    "\n"
   ]
  }
 ],
 "metadata": {
  "kernelspec": {
   "display_name": "Python 3",
   "language": "python",
   "name": "python3"
  },
  "language_info": {
   "codemirror_mode": {
    "name": "ipython",
    "version": 3
   },
   "file_extension": ".py",
   "mimetype": "text/x-python",
   "name": "python",
   "nbconvert_exporter": "python",
   "pygments_lexer": "ipython3",
   "version": "3.7.4"
  }
 },
 "nbformat": 4,
 "nbformat_minor": 2
}
