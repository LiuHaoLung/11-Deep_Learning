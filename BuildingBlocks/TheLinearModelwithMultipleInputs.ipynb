{
 "cells": [
  {
   "cell_type": "markdown",
   "metadata": {},
   "source": [
    "# The Linear Model with Multiple Inputs"
   ]
  },
  {
   "cell_type": "markdown",
   "metadata": {},
   "source": [
    "Extend the real estate valuation model to multiple inputs, what if it had additional information say the apartments we are valuing are located by the sea, the closer an apartment is to the beach, the higher the price should be.\n",
    "\n",
    "Well, a better linear model would predict the price, based on both size and proximity to the beach.\n",
    "\n",
    "The linear model tackling this issue it the price of an apartment equals its size * weight of the size + proximity * weight of proximity + the bias.\n",
    "\n",
    "If it want to state this expression in linear algebraic terms, it can use the same framework as before, xw + b, in this case x and w are both vectors.\n",
    "\n",
    "x is 1 by 2 vector and w is 2 by 1 vector, multiplying x and w would give us a scalar, as 1 by 2 * 2 by 1 is equal 1 by 1 shape.\n",
    "\n",
    "Let's continue the housing example, with the two input variables, the output y is equal x * w + b, x have two elements a size of 743 and a distance from the beach of 1.21 miles, w has two elements too, one for each input, the values are 403.77 and -15212, this time the bias is 1212.45, to calculate the new projected, the y = 743 * 403.77 - 1.21 * 15212 + 1212.45, the result is 282444.04.\n",
    "\n",
    "The distance from the beach is negative, this because it expect this variable to have a negative impact on an apartment price, so the greater the distance from the beach, the lower the price."
   ]
  },
  {
   "cell_type": "code",
   "execution_count": null,
   "metadata": {},
   "outputs": [],
   "source": []
  }
 ],
 "metadata": {
  "kernelspec": {
   "display_name": "Python 3",
   "language": "python",
   "name": "python3"
  },
  "language_info": {
   "codemirror_mode": {
    "name": "ipython",
    "version": 3
   },
   "file_extension": ".py",
   "mimetype": "text/x-python",
   "name": "python",
   "nbconvert_exporter": "python",
   "pygments_lexer": "ipython3",
   "version": "3.7.4"
  }
 },
 "nbformat": 4,
 "nbformat_minor": 2
}
