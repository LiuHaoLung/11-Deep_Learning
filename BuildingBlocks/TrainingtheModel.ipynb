{
 "cells": [
  {
   "cell_type": "markdown",
   "metadata": {},
   "source": [
    "# Training the Model"
   ]
  },
  {
   "cell_type": "markdown",
   "metadata": {},
   "source": [
    "Start with an example,  you have a coffee machine that doesn't know how to make coffee, in a known machine learning setting, it need to incorporate the instructions in the machine's electronics, for instance the engineers may set the machines electronics.\n",
    "\n",
    "First, grade 20 grams of coffee beans, second heat the water to 200 degrees F, third poor 100 milliliters through the ground coffee into the cup.\n",
    "\n",
    "Now, in a machine learning setting, it doesn't explicitly provide instructions to the machine, instead it just need to state the goals, then would let the machine work out the problen on its own.\n",
    "\n",
    "So the machine learning process is a kind of trial and error training, the machine would try various combinations of grinding, heating and pouring, most would not make sense.\n",
    "\n",
    "The machine would try heating the water and pouring it before grinding the coffee, resulting in a cup of hot water, or it may grind the coffee and pour the water without heating the water.\n",
    "\n",
    "Anyhow after thousands of trials and errors, the algorithm would train itself to reach the set goal every time, it can make a cup of coffee.\n",
    "\n",
    "It is possible that it will learn to make the best coffee you have ever tried muhc better than the one obtained by following a set of instructions.\n",
    "\n",
    "That's because it would have gone through so many more recipes than a human would ever be albe to, a reasonable optimation algorithm would not try all combinations as ther are usually inexhaustibly many other options.\n",
    "\n",
    "In this coffee example, if the coffee machine learns that grinding the coffee has to go before pouring the water, it would not waste time attempting it in the wrong order.\n",
    "\n",
    "This example shows why machine learning is so powerful, it allows system to learn on their own situations where human can't define a rigid set of rules for the computer to follow, even if we can define a set of rules, an algorithm can probably provide a better one."
   ]
  },
  {
   "cell_type": "code",
   "execution_count": null,
   "metadata": {},
   "outputs": [],
   "source": []
  }
 ],
 "metadata": {
  "kernelspec": {
   "display_name": "Python 3",
   "language": "python",
   "name": "python3"
  },
  "language_info": {
   "codemirror_mode": {
    "name": "ipython",
    "version": 3
   },
   "file_extension": ".py",
   "mimetype": "text/x-python",
   "name": "python",
   "nbconvert_exporter": "python",
   "pygments_lexer": "ipython3",
   "version": "3.7.4"
  }
 },
 "nbformat": 4,
 "nbformat_minor": 2
}
