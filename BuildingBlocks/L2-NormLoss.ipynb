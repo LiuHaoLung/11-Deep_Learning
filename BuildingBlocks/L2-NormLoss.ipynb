{
 "cells": [
  {
   "cell_type": "markdown",
   "metadata": {},
   "source": [
    "# L2-Norm Loss"
   ]
  },
  {
   "cell_type": "markdown",
   "metadata": {},
   "source": [
    "Supervised learning into two types, regression and classification, regression's loss function is L2-norm and classification's loss function is cross-entropy, this is applies to all models, regardless of their linearity.\n",
    "\n",
    "First, define another concept called the targer denoted by T, the target is essentially the desired value at which we are aiming, generally we want the output y to be as close as possible to the targer T, the machine learning algorithm aims to find a function of x that outputs values as close to the targets as possible, the loss function evaluates the accuracy of the outputs regarding the targets.\n",
    "___\n",
    "\n",
    "#### Regression function\n",
    "\n",
    "The outputs of a regression are continuous numbers, a commonly used loss function is the squared loss, also called L2- norm loss in the machine learning realm.\n",
    "\n",
    "The method for calculating it equals the OLS method used in statistics, this means the sum of the square differences between the output values y and the target T, the lower the sum is, the lower the error of prediction, therefore the lower the loss.\n",
    "\n",
    "Norm comes from the fact it is the vector norm, or euclidean distance of the outputs and the targets."
   ]
  },
  {
   "cell_type": "code",
   "execution_count": null,
   "metadata": {},
   "outputs": [],
   "source": []
  }
 ],
 "metadata": {
  "kernelspec": {
   "display_name": "Python 3",
   "language": "python",
   "name": "python3"
  },
  "language_info": {
   "codemirror_mode": {
    "name": "ipython",
    "version": 3
   },
   "file_extension": ".py",
   "mimetype": "text/x-python",
   "name": "python",
   "nbconvert_exporter": "python",
   "pygments_lexer": "ipython3",
   "version": "3.7.4"
  }
 },
 "nbformat": 4,
 "nbformat_minor": 2
}
