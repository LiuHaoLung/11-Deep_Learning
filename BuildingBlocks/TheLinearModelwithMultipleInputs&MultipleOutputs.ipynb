{
 "cells": [
  {
   "cell_type": "markdown",
   "metadata": {},
   "source": [
    "# The Linear Model with Multiple Inputs & Multiple Outputs"
   ]
  },
  {
   "cell_type": "markdown",
   "metadata": {},
   "source": [
    "Here is a new example, it maybe interested in predicting not only the price of the apartment when buying it but also the price for which it can rent it out, so in this example, the inputs are unchanged, it also the size and proximity, but this time will have two outputs.\n",
    "\n",
    "So in this example, it will be two equation, y1 = x1w11 + x21w2 + b1, y2 = x1w12 + x2w22 + b2, the indices of the weights, the first number refers to the respective input while the second to the output, so there is a different weight for each input in each equation.\n",
    "\n",
    "In gerneral, if it have k inputs and m outputs, the number of weight would be k * m weights, the number of biases is equal to the number of outputs m.\n",
    "\n",
    "If this case, the w11 = 403.77, w21 = -15.512, w12 = 13.9, w22 = -484.75, the b1 = 1112.45, b2 = 212.34, the x1 = 743, x2 = 1.21.\n",
    "\n",
    "The first output y1 = 734 * 403.77 - 1.21 * 15512 + 1112.45 = 282444.04, the second output y2 = 743 * 13.9 - 1.21 * 484.75 + 212.34 = 9952.79.\n",
    "\n",
    "This can extend, the output matrix will be entered by n where n is the number of observations and m is the number of output varaibles.\n",
    "\n",
    "The input matrix is n by k where k is the number of input variables, the weight matrix remains the same as the weights don't change depending on the number of observations, so the same applies to the bias's.\n",
    "\n",
    "In this case, it shows it can feed as much data in this model as we want to and it won't change as each model is determined solely by the weights and the biases.\n",
    "\n",
    "In ML, we vary only the weights and the biases, but the logic of the model remains the same."
   ]
  },
  {
   "cell_type": "code",
   "execution_count": null,
   "metadata": {},
   "outputs": [],
   "source": []
  }
 ],
 "metadata": {
  "kernelspec": {
   "display_name": "Python 3",
   "language": "python",
   "name": "python3"
  },
  "language_info": {
   "codemirror_mode": {
    "name": "ipython",
    "version": 3
   },
   "file_extension": ".py",
   "mimetype": "text/x-python",
   "name": "python",
   "nbconvert_exporter": "python",
   "pygments_lexer": "ipython3",
   "version": "3.7.4"
  }
 },
 "nbformat": 4,
 "nbformat_minor": 2
}
