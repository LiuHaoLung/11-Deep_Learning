{
 "cells": [
  {
   "cell_type": "markdown",
   "metadata": {},
   "source": [
    "# Types of Basic Preprocessing"
   ]
  },
  {
   "cell_type": "markdown",
   "metadata": {},
   "source": [
    "It will start with one of the simplest transformations, often we are not interested in an absolute value but a relative value, that's usually the case when working with stock prices.\n",
    "\n",
    "The stock price will have green or red numbers, it is a relative change in stock price, this is an exmaple of pre-processing that is so common we don't consider it as such, relative metrics are especially useful when we have a time series data like stock, exchange rates and so on.\n",
    "\n",
    "Still in the world of finance we can further transform these relative changes into logarithms, many statistical and mathematical methods take advantage of logarithms as they facilitate faster computation, in machine learning log transformed are not as commom but can increase the speed of learning."
   ]
  },
  {
   "cell_type": "code",
   "execution_count": null,
   "metadata": {},
   "outputs": [],
   "source": []
  }
 ],
 "metadata": {
  "kernelspec": {
   "display_name": "Python 3",
   "language": "python",
   "name": "python3"
  },
  "language_info": {
   "codemirror_mode": {
    "name": "ipython",
    "version": 3
   },
   "file_extension": ".py",
   "mimetype": "text/x-python",
   "name": "python",
   "nbconvert_exporter": "python",
   "pygments_lexer": "ipython3",
   "version": "3.7.4"
  }
 },
 "nbformat": 4,
 "nbformat_minor": 2
}
