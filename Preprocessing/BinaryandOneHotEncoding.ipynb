{
 "cells": [
  {
   "cell_type": "markdown",
   "metadata": {},
   "source": [
    "# Binary and One Hot Encoding"
   ]
  },
  {
   "cell_type": "markdown",
   "metadata": {},
   "source": [
    "#### Binary encoding\n",
    "\n",
    "Binary encoding implies we should turn these numbers into binary.\n",
    "\n",
    "Products          |Ordinal         |Binary\n",
    "---               |---             |---\n",
    "Bread             |1               |01\n",
    "Yogurt            |2               |10\n",
    "Muffin            |3               |11\n",
    "\n",
    "___\n",
    "\n",
    "The next step of the processing is to divide these into different columns as if we were creating two new variables.\n",
    "\n",
    "Products          |Ordinal         |Var1       |Var2\n",
    "---               |---             |---        |---\n",
    "Bread             |1               |0          |1\n",
    "Yogurt            |2               |1          |0\n",
    "Muffin            |3               |1          |1\n",
    "\n",
    "___\n",
    "\n",
    "We have differentiated between the three categories and have remove the order,\n",
    "\n",
    "Products            |Var1       |Var2\n",
    "---                 |---        |---\n",
    "Bread               |0          |1\n",
    "Yogurt              |1          |0\n",
    "Muffin              |1          |1\n",
    "\n",
    "However there are still some implied correlations between them, for instance bread and yogurt seem exactly the opposite of each other, it's like to saying whatever is bread is not yogurt and vice versa.\n",
    "\n",
    "Even if this make sense, if we encode them in a different way, this opposite correlation would be true for muffins and yogurt but no longer for bread, therefore buying their re-encoding proves problematic, but is a great improvement regarding the initial ordinal method.\n",
    "___\n",
    "\n",
    "#### One-hot encoding\n",
    "\n",
    "One-hot is very simple and widely adopted, it consists of creating as many columns as there are possible values, here we have three products thus we need three columns or three variables.\n",
    "\n",
    "Imagine these variables as asking the question is this product bread, is this product yogurt, is this product muffins, 1 means yes, 0 means no.\n",
    "\n",
    "This is very intuitive as a procuct can only be of one type at the same time, thus there will be only one value 1 and everything else will be 0.\n",
    "\n",
    "This means the products are uncorrelated and unequivocal which is useful and usually works like a charm.\n",
    "\n",
    "Products          |Bread       |Yogurt     |Muffins\n",
    "---               |---         |---        |---\n",
    "Bread             |1           |0          |0\n",
    "Yogurt            |0           |1          |0\n",
    "Muffin            |0           |0          |1\n",
    "\n",
    "There is one big problem with one-hot encoding though, one hot encoding requires a lot of new variables, for example ikea offers around 12000 products.\n",
    "\n",
    "Input               |Binary encoding     |One-hot encoding\n",
    "---                 |---                 |---\n",
    "New columns         |16                  |12000\n",
    "\n",
    "This is exponentially lower than the 12000 columns we would need for one-hot encoding, in such cases we must use binary, even though that would introduce some unjustified correlations between the products.\n",
    "___\n",
    "\n",
    "#### Summarize\n",
    "\n",
    "There is a tradeoff between binary and one-hot encoding, we would prefer one-hot when we have a few categories and binary when dealing with many categories."
   ]
  },
  {
   "cell_type": "code",
   "execution_count": null,
   "metadata": {},
   "outputs": [],
   "source": []
  }
 ],
 "metadata": {
  "kernelspec": {
   "display_name": "Python 3",
   "language": "python",
   "name": "python3"
  },
  "language_info": {
   "codemirror_mode": {
    "name": "ipython",
    "version": 3
   },
   "file_extension": ".py",
   "mimetype": "text/x-python",
   "name": "python",
   "nbconvert_exporter": "python",
   "pygments_lexer": "ipython3",
   "version": "3.7.4"
  }
 },
 "nbformat": 4,
 "nbformat_minor": 2
}
