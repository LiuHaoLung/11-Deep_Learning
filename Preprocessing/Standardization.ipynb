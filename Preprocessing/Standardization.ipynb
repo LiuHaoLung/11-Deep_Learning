{
 "cells": [
  {
   "cell_type": "markdown",
   "metadata": {},
   "source": [
    "# Standardization"
   ]
  },
  {
   "cell_type": "markdown",
   "metadata": {},
   "source": [
    "The most common problem when working with numerical data is about the difference in magnitudes, an easy fix for this issue is standardization.\n",
    "\n",
    "Other names by which you may have heard this term are feature scaling and normalization.\n",
    "\n",
    "However normalization could refet to a few additional concepts even within machine learning which is why still stich with the term standardization and feature scaling.\n",
    "\n",
    "Standardization is the process of transforming the data we are working with into a standard scale, a veryc common way to approach this problem is by subtracting the mean and dividing by the standard deviation.\n",
    "\n",
    "In this way, regardless of the dataset we will always obtain a distribution with a mean of 0, standard deviation of 1 which could easily be proven.\n",
    "\n",
    "Example:\n",
    "\n",
    "Day         |Exchange rate          |Daily trading volume\n",
    "---         |---                    |---\n",
    "1           |1.3                    |110000\n",
    "2           |1.34                   |98700\n",
    "3           |1.25                   |135000\n",
    "\n",
    "Standardized the exchange rates regarding the other exchange rates, so the current exchange rate mean is 1.3 while the standard deviation is 0.045, going through the above mentioned transformation, the exchange rate become 0.07, 0.96, -1.03 and standard daily trading volume.\n",
    "\n",
    "Day         |Exchange rate           |Daily trading volume\n",
    "---         |---                     |---\n",
    "1           |0.07                    |-0.25\n",
    "2           |0.96                    |-0.85\n",
    "3           |-1.02                   |1.1\n",
    "\n",
    "So in this way, we have focused figures of very different scales to appear similar, that's why another name for standardization is feature scaling, in this way will ensure our linear combination treat the two variables equally, also it is much easier to make sense of the data.\n",
    "\n",
    "The transformation of trading volumes allowed us to transform the volumes, in this way the third term is considerably higher than the average, while the first one is around the average, we can confidently say that 135000 trades per day is a high figure while 98700 is low, disregard the simplification of having just three observations.\n",
    "\n",
    "Besides standardization there are other popular methods too, the normalization refers to several concepts, one of them which comes up in machine learning often consist of converting each sample into a unit length vecotr using the L2-norm, another pre-processing method is PCA standing for principal components analysis, it is a dimension reduction technique, often uesd when working with several variables referring to the same bigger concept or latent variable.\n",
    "\n",
    "For instance, if we have data about one's religion, voting history, participation in different associations and upbringing, we can combine there four to reflect his or her attitude towards immigration, this new variable will normally be standardized in a range with a mean of 0 and standard deviation of 1.\n",
    "\n",
    "Whitening is another technique frequently used for pre-processing, it is often performed after PCA and removes most of the underlying correlations between data points, whitening can be useful when conceptually the data should be uncorrelated but that's not reflected in the observations."
   ]
  },
  {
   "cell_type": "code",
   "execution_count": null,
   "metadata": {},
   "outputs": [],
   "source": []
  }
 ],
 "metadata": {
  "kernelspec": {
   "display_name": "Python 3",
   "language": "python",
   "name": "python3"
  },
  "language_info": {
   "codemirror_mode": {
    "name": "ipython",
    "version": 3
   },
   "file_extension": ".py",
   "mimetype": "text/x-python",
   "name": "python",
   "nbconvert_exporter": "python",
   "pygments_lexer": "ipython3",
   "version": "3.7.4"
  }
 },
 "nbformat": 4,
 "nbformat_minor": 2
}
