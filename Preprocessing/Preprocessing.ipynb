{
 "cells": [
  {
   "cell_type": "markdown",
   "metadata": {},
   "source": [
    "# Preprocessing"
   ]
  },
  {
   "cell_type": "markdown",
   "metadata": {},
   "source": [
    "Pre-processing refers to any manipulation we apply to the data before running it through the model.\n",
    "\n",
    "Like in the tensorflow, created the .npz file, so if must work data in a excel or csv file or whatever, saving into an .npz file would be a type of pre-processing.\n",
    "\n",
    "The motivation for the pre-processing, there are several important points, the first one is about compatibility with the libraries we use, as we saw tensorflow works with tensors and not excel spreadsheets.\n",
    "\n",
    "You will often be given data in whatever format and you must make it compatible with the tools you use.\n",
    "\n",
    "Second we may need to adjust inputs of different magnitude, suck like the exchange rate or the volume, obviously the orders of magnitude are quite different.\n",
    "\n",
    "A linear combination of numbers based on such different skills is problematic, in purely mathematical terms, a value of 1 is negligible regarding the value of 100000, as all the inputs are on an equal footing in a vector or a matrix, the algorithm is likely to igonre all values around 1, these values essentially represent the exchange rate itself, so they are often more important than the volume of trading, so obviously something needs to be done to solve this issue.\n",
    "\n",
    "A third reason is generalization, problems that seem different can often be solved by similar models, standardizing inputs of different problems allows us to reuse the exact same models, sometimes there are cases when we can even reuse already train networks, imagine that you have trained a model previously, you face a new problem, you test your model and it works like a charm."
   ]
  },
  {
   "cell_type": "code",
   "execution_count": null,
   "metadata": {},
   "outputs": [],
   "source": []
  }
 ],
 "metadata": {
  "kernelspec": {
   "display_name": "Python 3",
   "language": "python",
   "name": "python3"
  },
  "language_info": {
   "codemirror_mode": {
    "name": "ipython",
    "version": 3
   },
   "file_extension": ".py",
   "mimetype": "text/x-python",
   "name": "python",
   "nbconvert_exporter": "python",
   "pygments_lexer": "ipython3",
   "version": "3.7.4"
  }
 },
 "nbformat": 4,
 "nbformat_minor": 2
}
