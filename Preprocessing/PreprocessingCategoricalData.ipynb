{
 "cells": [
  {
   "cell_type": "markdown",
   "metadata": {},
   "source": [
    "# Preprocessing Categorical Data"
   ]
  },
  {
   "cell_type": "markdown",
   "metadata": {},
   "source": [
    "Often though we must deal with categorical data, in short categorical data refers to groups or categories, such as cat god examples.\n",
    "\n",
    "But the machine learning algorithm takes only numbers as values, therefore the question when working with categorical data is how to convert a category into a number so can input it into a model output it in the end.\n",
    "\n",
    "Obviously a different number should be associated with each category or better ot a tensor.\n",
    "\n",
    "Imagine the shop has three products, bread, yogurt and muffins, a possible solution could be to enumerate them like this, bread is 1, yogurt is 2 and muffins is 3, unfortunately this implies there is some order, its like saying a muffin is more than a yogurt which is more than bread.\n",
    "\n",
    "If we instead had three prices, $1, $2 and $3, using the same logic, does it make any sense to you that three breads equals one muffin.\n",
    "\n",
    "There is another level of ambiguity to ger from bread to muffins, we always go through yogurt, ultimately what we have done is assumed the data has some order while it hasn't.\n",
    "\n",
    "Typically that's an issue when our data is divided into categories, they are two main way to encode categories in a way useful for machine learning.\n",
    "\n",
    "The first one is called one-hot encoding and the other binary encoding."
   ]
  },
  {
   "cell_type": "code",
   "execution_count": null,
   "metadata": {},
   "outputs": [],
   "source": []
  }
 ],
 "metadata": {
  "kernelspec": {
   "display_name": "Python 3",
   "language": "python",
   "name": "python3"
  },
  "language_info": {
   "codemirror_mode": {
    "name": "ipython",
    "version": 3
   },
   "file_extension": ".py",
   "mimetype": "text/x-python",
   "name": "python",
   "nbconvert_exporter": "python",
   "pygments_lexer": "ipython3",
   "version": "3.7.4"
  }
 },
 "nbformat": 4,
 "nbformat_minor": 2
}
